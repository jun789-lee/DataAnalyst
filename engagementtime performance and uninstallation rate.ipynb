{
 "cells": [
  {
   "cell_type": "markdown",
   "id": "71708e19",
   "metadata": {
    "vscode": {
     "languageId": "plaintext"
    }
   },
   "source": [
    "# engagement time이 길다는 데이터 하나만으로 유저에 대한 게임의 만족도가 높다고 할 수 있을까?"
   ]
  },
  {
   "cell_type": "markdown",
   "id": "23c13066",
   "metadata": {},
   "source": [
    "## 부제 : pic-fit과 cubeout의 비교"
   ]
  },
  {
   "cell_type": "markdown",
   "id": "6b625f0b",
   "metadata": {},
   "source": [
    "- 현재 데이터 분석 중, 게임의 벤치마크는 cubeout을 기준으로 하고 있음. 그 이유는 cubeout이 퍼포먼스가 준수하기 때문."
   ]
  },
  {
   "cell_type": "markdown",
   "id": "50cc9c4f",
   "metadata": {},
   "source": [
    "### 분석 배경\n",
    "\n",
    "- pic-fit의 유저 로그를 보던 중, 게임의 스테이지를 끝낸 후, 삭제하는 패턴이 자주 등장하였음. 이러한 현상을 발견하고, 유저들이 실제로 얼마나 삭제하고 있는지를 확인하며, 다른 게임과 비교하면서, 어느 정도 심각한 수준인지를 파악하기 위해서 이 레포트를 작성하였음."
   ]
  },
  {
   "cell_type": "markdown",
   "id": "64040dbf",
   "metadata": {},
   "source": [
    "### 본문\n",
    "\n",
    "#### pic-fit과 cubeout의 체류시간 비교\n",
    "\n",
    "![스크린샷](resoureces/Screenshot%202025-10-02%20at%204.00.28%20PM.png)"
   ]
  },
  {
   "cell_type": "markdown",
   "id": "7078acc1",
   "metadata": {},
   "source": [
    "큐브아웃과 픽핏의 평균체재시간(전기간)은 약 16분 전후로 비슷한 수준을 유지하고 있음. 중앙값에서 약 5분 간의 차이를 보이고 있으나, 이것은 여러 요인(특히, 게임의 고유 특성)에 의한 것이므로, 이번 레포트에서는 스킵하겠음.\n",
    "직관적으로 생각하였을 때, (전기간)평균체재시간이 비슷한 퍼포먼스를 보이고 있다면, 이 게임의 퍼포먼스, 유저에 대한 만족도는 비슷한 수준의 퍼포먼스를 발휘하고 있을 것이라고 생각할 수 있음.\n",
    "실제로 그러한가?\n",
    "\n",
    "#### 큐브아웃과 픽핏의 삭제률 차이\n",
    "\n"
   ]
  },
  {
   "cell_type": "markdown",
   "id": "693904b8",
   "metadata": {},
   "source": [
    "### 결론"
   ]
  },
  {
   "cell_type": "markdown",
   "id": "0515e0ab",
   "metadata": {},
   "source": [
    "### 세줄요약"
   ]
  },
  {
   "cell_type": "markdown",
   "id": "ddc92fb6",
   "metadata": {},
   "source": [
    "### 기술적 측면"
   ]
  },
  {
   "cell_type": "code",
   "execution_count": 2,
   "id": "570e91cd",
   "metadata": {},
   "outputs": [
    {
     "ename": "ModuleNotFoundError",
     "evalue": "No module named 'pandas'",
     "output_type": "error",
     "traceback": [
      "\u001b[0;31m---------------------------------------------------------------------------\u001b[0m",
      "\u001b[0;31mModuleNotFoundError\u001b[0m                       Traceback (most recent call last)",
      "Cell \u001b[0;32mIn[2], line 3\u001b[0m\n\u001b[1;32m      1\u001b[0m \u001b[38;5;66;03m# csv 파일 읽은 후, 데이터 시각화\u001b[39;00m\n\u001b[0;32m----> 3\u001b[0m \u001b[38;5;28;01mimport\u001b[39;00m\u001b[38;5;250m \u001b[39m\u001b[38;5;21;01mpandas\u001b[39;00m\u001b[38;5;250m \u001b[39m\u001b[38;5;28;01mas\u001b[39;00m\u001b[38;5;250m \u001b[39m\u001b[38;5;21;01mpd\u001b[39;00m\n\u001b[1;32m      4\u001b[0m \u001b[38;5;28;01mimport\u001b[39;00m\u001b[38;5;250m \u001b[39m\u001b[38;5;21;01mnumpy\u001b[39;00m\u001b[38;5;250m \u001b[39m\u001b[38;5;28;01mas\u001b[39;00m\u001b[38;5;250m \u001b[39m\u001b[38;5;21;01mnp\u001b[39;00m\n\u001b[1;32m      5\u001b[0m \u001b[38;5;28;01mimport\u001b[39;00m\u001b[38;5;250m \u001b[39m\u001b[38;5;21;01mmatplotlib\u001b[39;00m\u001b[38;5;21;01m.\u001b[39;00m\u001b[38;5;21;01mpyplot\u001b[39;00m\u001b[38;5;250m \u001b[39m\u001b[38;5;28;01mas\u001b[39;00m\u001b[38;5;250m \u001b[39m\u001b[38;5;21;01mplt\u001b[39;00m\n",
      "\u001b[0;31mModuleNotFoundError\u001b[0m: No module named 'pandas'"
     ]
    }
   ],
   "source": [
    "# csv 파일 읽은 후, 데이터 시각화\n",
    "\n",
    "import pandas as pd\n",
    "import numpy as np\n",
    "import matplotlib.pyplot as plt\n",
    "from matplotlib import font_manager, rc\n",
    "\n",
    "# 한글 폰트 설정 (MacOS)\n",
    "plt.rcParams['font.family'] = 'AppleGothic'\n",
    "plt.rcParams['axes.unicode_minus'] = False\n",
    "\n",
    "# CSV 파일 읽기\n",
    "cubeout_df = pd.read_csv('resoureces/cubeout retention and uninstallation rate.csv')\n",
    "picfit_df = pd.read_csv('resoureces/pic-fit retention and uninstallation rate.csv')\n",
    "\n",
    "# Uninstall 데이터만 추출\n",
    "cubeout_uninstall = cubeout_df[cubeout_df['metric_type'] == 'Uninstall'].iloc[0]\n",
    "picfit_uninstall = picfit_df[picfit_df['metric_type'] == 'Uninstall'].iloc[0]\n",
    "\n",
    "# Day별 uninstall rate 추출\n",
    "days = [f'd{i}_rate' for i in range(1, 11)]\n",
    "day_labels = [f'Day {i}' for i in range(1, 11)]\n",
    "\n",
    "cubeout_rates = [cubeout_uninstall[day] for day in days]\n",
    "picfit_rates = [picfit_uninstall[day] for day in days]\n",
    "\n",
    "# 시각화\n",
    "plt.figure(figsize=(14, 8))\n",
    "plt.plot(day_labels, cubeout_rates, marker='o', linewidth=2.5, markersize=8, \n",
    "         label=f'Cubeout (설치: {int(cubeout_uninstall[\"total_installs\"])})', color='#2E86AB')\n",
    "plt.plot(day_labels, picfit_rates, marker='s', linewidth=2.5, markersize=8, \n",
    "         label=f'Pic-fit (설치: {int(picfit_uninstall[\"total_installs\"])})', color='#A23B72')\n",
    "\n",
    "# 그래프 꾸미기\n",
    "plt.title('코호트 데이별 Uninstallation Rate 추이 비교', fontsize=18, fontweight='bold', pad=20)\n",
    "plt.xlabel('코호트 일수', fontsize=14, fontweight='bold')\n",
    "plt.ylabel('Uninstallation Rate (%)', fontsize=14, fontweight='bold')\n",
    "plt.legend(fontsize=12, loc='upper left', framealpha=0.9)\n",
    "plt.grid(True, alpha=0.3, linestyle='--')\n",
    "plt.xticks(rotation=45, fontsize=11)\n",
    "plt.yticks(fontsize=11)\n",
    "\n",
    "# Y축 범위 설정\n",
    "plt.ylim(0, max(max(cubeout_rates), max(picfit_rates)) + 10)\n",
    "\n",
    "# 각 포인트에 값 표시\n",
    "for i, (day, cubeout_val, picfit_val) in enumerate(zip(day_labels, cubeout_rates, picfit_rates)):\n",
    "    plt.text(i, cubeout_val + 1.5, f'{cubeout_val:.1f}%', ha='center', va='bottom', \n",
    "             fontsize=9, color='#2E86AB', fontweight='bold')\n",
    "    plt.text(i, picfit_val + 1.5, f'{picfit_val:.1f}%', ha='center', va='bottom', \n",
    "             fontsize=9, color='#A23B72', fontweight='bold')\n",
    "\n",
    "plt.tight_layout()\n",
    "plt.show()\n",
    "\n",
    "# 통계 요약 출력\n",
    "print(\"=\" * 60)\n",
    "print(\"📊 Uninstallation Rate 통계 요약\")\n",
    "print(\"=\" * 60)\n",
    "print(f\"\\n[Cubeout]\")\n",
    "print(f\"  - 총 설치 수: {int(cubeout_uninstall['total_installs']):,}\")\n",
    "print(f\"  - Day 1 삭제율: {cubeout_rates[0]:.2f}%\")\n",
    "print(f\"  - Day 10 삭제율: {cubeout_rates[-1]:.2f}%\")\n",
    "print(f\"  - 증가폭: {cubeout_rates[-1] - cubeout_rates[0]:.2f}%p\")\n",
    "print(f\"\\n[Pic-fit]\")\n",
    "print(f\"  - 총 설치 수: {int(picfit_uninstall['total_installs']):,}\")\n",
    "print(f\"  - Day 1 삭제율: {picfit_rates[0]:.2f}%\")\n",
    "print(f\"  - Day 10 삭제율: {picfit_rates[-1]:.2f}%\")\n",
    "print(f\"  - 증가폭: {picfit_rates[-1] - picfit_rates[0]:.2f}%p\")\n",
    "print(f\"\\n[비교]\")\n",
    "print(f\"  - Day 1 차이: {picfit_rates[0] - cubeout_rates[0]:.2f}%p (Pic-fit이 더 높음)\")\n",
    "print(f\"  - Day 10 차이: {picfit_rates[-1] - cubeout_rates[-1]:.2f}%p (Pic-fit이 더 높음)\")\n",
    "print(\"=\" * 60)\n"
   ]
  },
  {
   "cell_type": "code",
   "execution_count": null,
   "id": "9d4be580",
   "metadata": {},
   "outputs": [],
   "source": []
  }
 ],
 "metadata": {
  "kernelspec": {
   "display_name": ".venv",
   "language": "python",
   "name": "python3"
  },
  "language_info": {
   "codemirror_mode": {
    "name": "ipython",
    "version": 3
   },
   "file_extension": ".py",
   "mimetype": "text/x-python",
   "name": "python",
   "nbconvert_exporter": "python",
   "pygments_lexer": "ipython3",
   "version": "3.9.6"
  }
 },
 "nbformat": 4,
 "nbformat_minor": 5
}
